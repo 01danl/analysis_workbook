{
  "cells": [
    {
      "cell_type": "code",
      "execution_count": null,
      "metadata": {
        "id": "dgnJhhfXEDQQ"
      },
      "outputs": [],
      "source": [
        "import os\n",
        "import pandas as pd\n",
        "import numpy as np\n",
        "import seaborn as sns\n",
        "import matplotlib.pyplot as plt"
      ]
    },
    {
      "cell_type": "code",
      "execution_count": null,
      "metadata": {
        "colab": {
          "base_uri": "https://localhost:8080/",
          "height": 363
        },
        "id": "Oc91cE_wES5-",
        "outputId": "2488da81-301a-4f8f-ea33-bcdedf4c8d67"
      },
      "outputs": [
        {
          "data": {
            "text/html": [
              "<div>\n",
              "<style scoped>\n",
              "    .dataframe tbody tr th:only-of-type {\n",
              "        vertical-align: middle;\n",
              "    }\n",
              "\n",
              "    .dataframe tbody tr th {\n",
              "        vertical-align: top;\n",
              "    }\n",
              "\n",
              "    .dataframe thead th {\n",
              "        text-align: right;\n",
              "    }\n",
              "</style>\n",
              "<table border=\"1\" class=\"dataframe\">\n",
              "  <thead>\n",
              "    <tr style=\"text-align: right;\">\n",
              "      <th></th>\n",
              "      <th>Temperature (K)</th>\n",
              "      <th>Luminosity(L/Lo)</th>\n",
              "      <th>Radius(R/Ro)</th>\n",
              "      <th>Absolute magnitude(Mv)</th>\n",
              "      <th>Star type</th>\n",
              "      <th>Star color</th>\n",
              "      <th>Spectral Class</th>\n",
              "    </tr>\n",
              "  </thead>\n",
              "  <tbody>\n",
              "    <tr>\n",
              "      <th>115</th>\n",
              "      <td>3553</td>\n",
              "      <td>145000.0000</td>\n",
              "      <td>1324.00000</td>\n",
              "      <td>-11.03</td>\n",
              "      <td>5</td>\n",
              "      <td>Red</td>\n",
              "      <td>M</td>\n",
              "    </tr>\n",
              "    <tr>\n",
              "      <th>39</th>\n",
              "      <td>5587</td>\n",
              "      <td>0.8190</td>\n",
              "      <td>0.99000</td>\n",
              "      <td>5.03</td>\n",
              "      <td>3</td>\n",
              "      <td>Yellow-White</td>\n",
              "      <td>F</td>\n",
              "    </tr>\n",
              "    <tr>\n",
              "      <th>55</th>\n",
              "      <td>3450</td>\n",
              "      <td>263000.0000</td>\n",
              "      <td>1349.00000</td>\n",
              "      <td>-11.75</td>\n",
              "      <td>5</td>\n",
              "      <td>Red</td>\n",
              "      <td>M</td>\n",
              "    </tr>\n",
              "    <tr>\n",
              "      <th>44</th>\n",
              "      <td>3008</td>\n",
              "      <td>280000.0000</td>\n",
              "      <td>25.00000</td>\n",
              "      <td>-6.00</td>\n",
              "      <td>4</td>\n",
              "      <td>Red</td>\n",
              "      <td>M</td>\n",
              "    </tr>\n",
              "    <tr>\n",
              "      <th>56</th>\n",
              "      <td>3660</td>\n",
              "      <td>363000.0000</td>\n",
              "      <td>1673.00000</td>\n",
              "      <td>-11.92</td>\n",
              "      <td>5</td>\n",
              "      <td>Red</td>\n",
              "      <td>M</td>\n",
              "    </tr>\n",
              "    <tr>\n",
              "      <th>142</th>\n",
              "      <td>18290</td>\n",
              "      <td>0.0013</td>\n",
              "      <td>0.00934</td>\n",
              "      <td>12.78</td>\n",
              "      <td>2</td>\n",
              "      <td>Blue</td>\n",
              "      <td>B</td>\n",
              "    </tr>\n",
              "    <tr>\n",
              "      <th>74</th>\n",
              "      <td>3550</td>\n",
              "      <td>0.0040</td>\n",
              "      <td>0.29100</td>\n",
              "      <td>10.89</td>\n",
              "      <td>1</td>\n",
              "      <td>Red</td>\n",
              "      <td>M</td>\n",
              "    </tr>\n",
              "    <tr>\n",
              "      <th>13</th>\n",
              "      <td>3628</td>\n",
              "      <td>0.0055</td>\n",
              "      <td>0.39300</td>\n",
              "      <td>10.48</td>\n",
              "      <td>1</td>\n",
              "      <td>Red</td>\n",
              "      <td>M</td>\n",
              "    </tr>\n",
              "    <tr>\n",
              "      <th>24</th>\n",
              "      <td>16500</td>\n",
              "      <td>0.0130</td>\n",
              "      <td>0.01400</td>\n",
              "      <td>11.89</td>\n",
              "      <td>2</td>\n",
              "      <td>Blue-White</td>\n",
              "      <td>B</td>\n",
              "    </tr>\n",
              "    <tr>\n",
              "      <th>190</th>\n",
              "      <td>3462</td>\n",
              "      <td>0.0053</td>\n",
              "      <td>0.14800</td>\n",
              "      <td>11.47</td>\n",
              "      <td>1</td>\n",
              "      <td>Red</td>\n",
              "      <td>M</td>\n",
              "    </tr>\n",
              "  </tbody>\n",
              "</table>\n",
              "</div>"
            ],
            "text/plain": [
              "     Temperature (K)  Luminosity(L/Lo)  Radius(R/Ro)  Absolute magnitude(Mv)  \\\n",
              "115             3553       145000.0000    1324.00000                  -11.03   \n",
              "39              5587            0.8190       0.99000                    5.03   \n",
              "55              3450       263000.0000    1349.00000                  -11.75   \n",
              "44              3008       280000.0000      25.00000                   -6.00   \n",
              "56              3660       363000.0000    1673.00000                  -11.92   \n",
              "142            18290            0.0013       0.00934                   12.78   \n",
              "74              3550            0.0040       0.29100                   10.89   \n",
              "13              3628            0.0055       0.39300                   10.48   \n",
              "24             16500            0.0130       0.01400                   11.89   \n",
              "190             3462            0.0053       0.14800                   11.47   \n",
              "\n",
              "     Star type    Star color Spectral Class  \n",
              "115          5           Red              M  \n",
              "39           3  Yellow-White              F  \n",
              "55           5           Red              M  \n",
              "44           4           Red              M  \n",
              "56           5           Red              M  \n",
              "142          2          Blue              B  \n",
              "74           1           Red              M  \n",
              "13           1           Red              M  \n",
              "24           2    Blue-White              B  \n",
              "190          1           Red              M  "
            ]
          },
          "execution_count": 3,
          "metadata": {},
          "output_type": "execute_result"
        }
      ],
      "source": [
        "# Peek into the data by creating pandas dataframe\n",
        "star_df = pd.read_csv('https://drive.google.com/uc?id=1BQVc6MHjQFtDC9iP1isT_K4ojVe_Oil-')\n",
        "star_df.sample(10) # Random 10 samples from star_df"
      ]
    },
    {
      "cell_type": "code",
      "execution_count": null,
      "metadata": {
        "colab": {
          "base_uri": "https://localhost:8080/",
          "height": 206
        },
        "id": "f-RCpb8zET-L",
        "outputId": "3d044598-cf5e-451d-af0b-134b0a096ff4"
      },
      "outputs": [
        {
          "data": {
            "text/html": [
              "<div>\n",
              "<style scoped>\n",
              "    .dataframe tbody tr th:only-of-type {\n",
              "        vertical-align: middle;\n",
              "    }\n",
              "\n",
              "    .dataframe tbody tr th {\n",
              "        vertical-align: top;\n",
              "    }\n",
              "\n",
              "    .dataframe thead th {\n",
              "        text-align: right;\n",
              "    }\n",
              "</style>\n",
              "<table border=\"1\" class=\"dataframe\">\n",
              "  <thead>\n",
              "    <tr style=\"text-align: right;\">\n",
              "      <th></th>\n",
              "      <th>Temperature (K)</th>\n",
              "      <th>Luminosity(L/Lo)</th>\n",
              "      <th>Radius(R/Ro)</th>\n",
              "      <th>Absolute magnitude(Mv)</th>\n",
              "      <th>Star type</th>\n",
              "      <th>Star color</th>\n",
              "      <th>Spectral Class</th>\n",
              "    </tr>\n",
              "  </thead>\n",
              "  <tbody>\n",
              "    <tr>\n",
              "      <th>0</th>\n",
              "      <td>3068</td>\n",
              "      <td>0.002400</td>\n",
              "      <td>0.1700</td>\n",
              "      <td>16.12</td>\n",
              "      <td>0</td>\n",
              "      <td>Red</td>\n",
              "      <td>M</td>\n",
              "    </tr>\n",
              "    <tr>\n",
              "      <th>1</th>\n",
              "      <td>3042</td>\n",
              "      <td>0.000500</td>\n",
              "      <td>0.1542</td>\n",
              "      <td>16.60</td>\n",
              "      <td>0</td>\n",
              "      <td>Red</td>\n",
              "      <td>M</td>\n",
              "    </tr>\n",
              "    <tr>\n",
              "      <th>2</th>\n",
              "      <td>2600</td>\n",
              "      <td>0.000300</td>\n",
              "      <td>0.1020</td>\n",
              "      <td>18.70</td>\n",
              "      <td>0</td>\n",
              "      <td>Red</td>\n",
              "      <td>M</td>\n",
              "    </tr>\n",
              "    <tr>\n",
              "      <th>3</th>\n",
              "      <td>2800</td>\n",
              "      <td>0.000200</td>\n",
              "      <td>0.1600</td>\n",
              "      <td>16.65</td>\n",
              "      <td>0</td>\n",
              "      <td>Red</td>\n",
              "      <td>M</td>\n",
              "    </tr>\n",
              "    <tr>\n",
              "      <th>4</th>\n",
              "      <td>1939</td>\n",
              "      <td>0.000138</td>\n",
              "      <td>0.1030</td>\n",
              "      <td>20.06</td>\n",
              "      <td>0</td>\n",
              "      <td>Red</td>\n",
              "      <td>M</td>\n",
              "    </tr>\n",
              "  </tbody>\n",
              "</table>\n",
              "</div>"
            ],
            "text/plain": [
              "   Temperature (K)  Luminosity(L/Lo)  Radius(R/Ro)  Absolute magnitude(Mv)  \\\n",
              "0             3068          0.002400        0.1700                   16.12   \n",
              "1             3042          0.000500        0.1542                   16.60   \n",
              "2             2600          0.000300        0.1020                   18.70   \n",
              "3             2800          0.000200        0.1600                   16.65   \n",
              "4             1939          0.000138        0.1030                   20.06   \n",
              "\n",
              "   Star type Star color Spectral Class  \n",
              "0          0        Red              M  \n",
              "1          0        Red              M  \n",
              "2          0        Red              M  \n",
              "3          0        Red              M  \n",
              "4          0        Red              M  "
            ]
          },
          "execution_count": 4,
          "metadata": {},
          "output_type": "execute_result"
        }
      ],
      "source": [
        "star_df.head()"
      ]
    },
    {
      "cell_type": "code",
      "execution_count": null,
      "metadata": {
        "colab": {
          "base_uri": "https://localhost:8080/"
        },
        "id": "BGivepJHEiG1",
        "outputId": "b54c4d26-6b02-48e2-84c9-554c16315b57"
      },
      "outputs": [
        {
          "name": "stdout",
          "output_type": "stream",
          "text": [
            "<class 'pandas.core.frame.DataFrame'>\n",
            "RangeIndex: 240 entries, 0 to 239\n",
            "Data columns (total 7 columns):\n",
            " #   Column                  Non-Null Count  Dtype  \n",
            "---  ------                  --------------  -----  \n",
            " 0   Temperature (K)         240 non-null    int64  \n",
            " 1   Luminosity(L/Lo)        240 non-null    float64\n",
            " 2   Radius(R/Ro)            240 non-null    float64\n",
            " 3   Absolute magnitude(Mv)  240 non-null    float64\n",
            " 4   Star type               240 non-null    int64  \n",
            " 5   Star color              240 non-null    object \n",
            " 6   Spectral Class          240 non-null    object \n",
            "dtypes: float64(3), int64(2), object(2)\n",
            "memory usage: 13.3+ KB\n"
          ]
        }
      ],
      "source": [
        "star_df.info()"
      ]
    },
    {
      "cell_type": "markdown",
      "metadata": {
        "id": "G38UgGnNH23J"
      },
      "source": [
        "We convert Star Color - > Star type(int), for ML\n"
      ]
    },
    {
      "cell_type": "code",
      "execution_count": null,
      "metadata": {
        "id": "XFxu8PgwFX6Q"
      },
      "outputs": [],
      "source": [
        "folder_name = 'stars_graphs'\n",
        "os.makedirs(folder_name, exist_ok=True)\n",
        "base_dir = f'/content/{folder_name}/'"
      ]
    },
    {
      "cell_type": "markdown",
      "metadata": {
        "id": "EsDgTV0TJQ6s"
      },
      "source": [
        "\n",
        "**Star type**\n",
        "\n",
        "0.   Brown Dwarf\n",
        "1.   Red Dwarf\n",
        "2.   White Dwarf\n",
        "3.   Main Sequence\n",
        "4. Supergiants\n",
        "5. Hypergiants\n",
        "\n"
      ]
    },
    {
      "cell_type": "code",
      "execution_count": null,
      "metadata": {
        "colab": {
          "base_uri": "https://localhost:8080/",
          "height": 304
        },
        "id": "60R6tfhKITCk",
        "outputId": "30718ae8-7e97-4f9f-89a0-1db02b65b51c"
      },
      "outputs": [
        {
          "data": {
            "text/plain": [
              "Star type\n",
              "0    40\n",
              "1    40\n",
              "2    40\n",
              "3    40\n",
              "4    40\n",
              "5    40\n",
              "Name: count, dtype: int64"
            ]
          },
          "execution_count": 7,
          "metadata": {},
          "output_type": "execute_result"
        }
      ],
      "source": [
        "star_df['Star type'].value_counts()"
      ]
    },
    {
      "cell_type": "code",
      "execution_count": null,
      "metadata": {
        "colab": {
          "base_uri": "https://localhost:8080/",
          "height": 467
        },
        "id": "lVEHuJ3sJolk",
        "outputId": "437407b1-7230-4c81-824b-9d87dcc01dee"
      },
      "outputs": [
        {
          "data": {
            "image/png": "[encoded data removed]",
            "text/plain": [
              "<Figure size 640x480 with 1 Axes>"
            ]
          },
          "metadata": {},
          "output_type": "display_data"
        }
      ],
      "source": [
        "ax = star_df['Star type'].value_counts().plot(kind='bar')\n",
        "ax.bar_label(ax.containers[0], color='white')\n",
        "plt.title('Visualize star count p start type')\n",
        "plt.ylabel('# Of stars', color='red', fontsize=20)\n",
        "plt.xticks(ticks=[0,1,2,3,4,5], labels=['Brown Dwarf', 'Red Dwarf', 'White Dwarf', 'Main Sequence', 'Supergiants', 'Hypergiants'])\n",
        "plt.show()"
      ]
    },
    {
      "cell_type": "code",
      "execution_count": null,
      "metadata": {
        "id": "OMUUIbeJKOsc"
      },
      "outputs": [],
      "source": [
        "sns.pairplot(star_df) #without subplot\n",
        "plt.show()"
      ]
    },
    {
      "cell_type": "code",
      "execution_count": null,
      "metadata": {},
      "outputs": [],
      "source": []
    }
  ],
  "metadata": {
    "colab": {
      "provenance": []
    },
    "kernelspec": {
      "display_name": "Python 3 (ipykernel)",
      "language": "python",
      "name": "python3"
    },
    "language_info": {
      "codemirror_mode": {
        "name": "ipython",
        "version": 3
      },
      "file_extension": ".py",
      "mimetype": "text/x-python",
      "name": "python",
      "nbconvert_exporter": "python",
      "pygments_lexer": "ipython3",
      "version": "3.12.1"
    }
  },
  "nbformat": 4,
  "nbformat_minor": 0
}
