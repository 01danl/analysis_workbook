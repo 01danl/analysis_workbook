{
 "cells": [
  {
   "cell_type": "code",
   "execution_count": null,
   "id": "5ef3b904-3eae-4c14-8fc6-aa2a6291f594",
   "metadata": {},
   "outputs": [],
   "source": [
    "**Create data**"
   ]
  },
  {
   "cell_type": "code",
   "execution_count": 64,
   "id": "88b2ea73-b2c2-4035-aae7-c181bdc90ca1",
   "metadata": {},
   "outputs": [],
   "source": [
    "#import library\n",
    "import pandas as pd\n",
    "data = {\n",
    "    'Имя': ['Аня', 'Борис', 'Катя', 'Максим', 'Оля'],\n",
    "    'Возраст': [23, 25, 22, 24, 23],\n",
    "    'Город': ['Москва', 'Питер', 'Казань', 'Москва', 'Самара'],\n",
    "    'Оценка': [85, 90, 88, 92, 87]\n",
    "}\n",
    "\n",
    "df = pd.DataFrame(data)"
   ]
  },
  {
   "cell_type": "code",
   "execution_count": 66,
   "id": "bd58e224-f222-4362-84ad-4cb2ec5135e7",
   "metadata": {
    "scrolled": true
   },
   "outputs": [
    {
     "name": "stdout",
     "output_type": "stream",
     "text": [
      "      Имя  Возраст   Город  Оценка\n",
      "0     Аня       23  Москва      85\n",
      "1   Борис       25   Питер      90\n",
      "2    Катя       22  Казань      88\n",
      "3  Максим       24  Москва      92\n",
      "4     Оля       23  Самара      87\n"
     ]
    }
   ],
   "source": [
    "print(df)"
   ]
  },
  {
   "cell_type": "code",
   "execution_count": 68,
   "id": "8e429d36-eb72-4b1b-8de1-946dbcf5edd1",
   "metadata": {},
   "outputs": [
    {
     "name": "stdout",
     "output_type": "stream",
     "text": [
      "      Имя  Возраст   Город  Оценка\n",
      "0     Аня       23  Москва      85\n",
      "1   Борис       25   Питер      90\n",
      "2    Катя       22  Казань      88\n",
      "3  Максим       24  Москва      92\n",
      "4     Оля       23  Самара      87\n"
     ]
    }
   ],
   "source": [
    "print(df.head())"
   ]
  },
  {
   "cell_type": "code",
   "execution_count": 70,
   "id": "fac4b12b-ce85-411c-b694-2ea6f59be302",
   "metadata": {},
   "outputs": [
    {
     "name": "stdout",
     "output_type": "stream",
     "text": [
      "<class 'pandas.core.frame.DataFrame'>\n",
      "RangeIndex: 5 entries, 0 to 4\n",
      "Data columns (total 4 columns):\n",
      " #   Column   Non-Null Count  Dtype \n",
      "---  ------   --------------  ----- \n",
      " 0   Имя      5 non-null      object\n",
      " 1   Возраст  5 non-null      int64 \n",
      " 2   Город    5 non-null      object\n",
      " 3   Оценка   5 non-null      int64 \n",
      "dtypes: int64(2), object(2)\n",
      "memory usage: 292.0+ bytes\n",
      "None\n"
     ]
    }
   ],
   "source": [
    "print(df.info()) # give info about table "
   ]
  },
  {
   "cell_type": "code",
   "execution_count": 76,
   "id": "9e27a89b-e032-48d2-b597-b6b4d38405c3",
   "metadata": {},
   "outputs": [
    {
     "name": "stdout",
     "output_type": "stream",
     "text": [
      "Средний возраст: 23.4\n"
     ]
    }
   ],
   "source": [
    "avg_age = df['Возраст'].mean() # average age\n",
    "print(f\"Средний возраст: {avg_age}\")"
   ]
  },
  {
   "cell_type": "code",
   "execution_count": 78,
   "id": "bc34e8cd-6dcf-4fb8-a394-a060e47e5bdc",
   "metadata": {},
   "outputs": [
    {
     "name": "stdout",
     "output_type": "stream",
     "text": [
      "Средняя оценка: 88.4\n"
     ]
    }
   ],
   "source": [
    "avg_grade = df['Оценка'].mean() #average grade\n",
    "print(f\"Средняя оценка: {avg_grade}\")"
   ]
  },
  {
   "cell_type": "code",
   "execution_count": 80,
   "id": "9e7bd478-2128-424a-9d41-0c17fecfc761",
   "metadata": {},
   "outputs": [],
   "source": [
    "#add new column\n",
    "df['Пол'] = ['Ж', 'М', 'Ж', 'М', 'Ж']"
   ]
  },
  {
   "cell_type": "code",
   "execution_count": 82,
   "id": "abfb7995-cffc-4b9f-9a27-5684c8556984",
   "metadata": {},
   "outputs": [
    {
     "name": "stdout",
     "output_type": "stream",
     "text": [
      "      Имя  Возраст   Город  Оценка Пол\n",
      "0     Аня       23  Москва      85   Ж\n",
      "1   Борис       25   Питер      90   М\n",
      "2    Катя       22  Казань      88   Ж\n",
      "3  Максим       24  Москва      92   М\n",
      "4     Оля       23  Самара      87   Ж\n"
     ]
    }
   ],
   "source": [
    "print(df)"
   ]
  },
  {
   "cell_type": "code",
   "execution_count": 91,
   "id": "522945cd-d196-4108-97f4-a17ddeeddcdb",
   "metadata": {},
   "outputs": [
    {
     "name": "stdout",
     "output_type": "stream",
     "text": [
      "      Имя  Возраст    Факультет\n",
      "0    Анна       21       Физика\n",
      "1   Борис       22   Математика\n",
      "2  Виктор       20  Информатика\n",
      "3  Галина       23   Математика\n"
     ]
    }
   ],
   "source": [
    "#ex1\n",
    "new_data = {\n",
    "    'Имя' : ['Анна', 'Борис', 'Виктор', 'Галина'],\n",
    "    'Возраст' : [21, 22, 20, 23],\n",
    "    'Факультет' : ['Физика', 'Математика', 'Информатика', 'Математика']\n",
    "}\n",
    "df1 = pd.DataFrame(new_data)\n",
    "print(df1)"
   ]
  },
  {
   "cell_type": "code",
   "execution_count": 93,
   "id": "c9aefa8e-ac48-49af-97ff-741bfe1aff46",
   "metadata": {},
   "outputs": [
    {
     "name": "stdout",
     "output_type": "stream",
     "text": [
      "0      Анна\n",
      "1     Борис\n",
      "2    Виктор\n",
      "3    Галина\n",
      "Name: Имя, dtype: object\n"
     ]
    }
   ],
   "source": [
    "#ex2\n",
    "names = df1['Имя']\n",
    "print(names)"
   ]
  },
  {
   "cell_type": "code",
   "execution_count": 95,
   "id": "ec26d7f2-2a0b-462d-a668-f235b617d2fe",
   "metadata": {},
   "outputs": [
    {
     "name": "stdout",
     "output_type": "stream",
     "text": [
      "      Имя  Возраст    Факультет  Средний балл\n",
      "0    Анна       21       Физика            85\n",
      "1   Борис       22   Математика            90\n",
      "2  Виктор       20  Информатика            78\n",
      "3  Галина       23   Математика            88\n"
     ]
    }
   ],
   "source": [
    "#ex3 add\n",
    "df1[\"Средний балл\"] = [85, 90, 78, 88]\n",
    "print(df1)"
   ]
  },
  {
   "cell_type": "code",
   "execution_count": 97,
   "id": "699872b0-81ea-4e4f-b880-10f4f95fe6ac",
   "metadata": {},
   "outputs": [
    {
     "name": "stdout",
     "output_type": "stream",
     "text": [
      "      Имя  Возраст  Средний балл\n",
      "0    Анна       21            85\n",
      "1   Борис       22            90\n",
      "2  Виктор       20            78\n",
      "3  Галина       23            88\n"
     ]
    }
   ],
   "source": [
    "df1 = df1.drop(columns='Факультет')\n",
    "print(df1)"
   ]
  },
  {
   "cell_type": "code",
   "execution_count": 100,
   "id": "01aece9d-9440-4b11-8b94-66cf256d8965",
   "metadata": {
    "scrolled": true
   },
   "outputs": [
    {
     "name": "stdout",
     "output_type": "stream",
     "text": [
      "     survived  pclass     sex   age  sibsp  parch     fare embarked   class  \\\n",
      "0           0       3    male  22.0      1      0   7.2500        S   Third   \n",
      "1           1       1  female  38.0      1      0  71.2833        C   First   \n",
      "2           1       3  female  26.0      0      0   7.9250        S   Third   \n",
      "3           1       1  female  35.0      1      0  53.1000        S   First   \n",
      "4           0       3    male  35.0      0      0   8.0500        S   Third   \n",
      "..        ...     ...     ...   ...    ...    ...      ...      ...     ...   \n",
      "886         0       2    male  27.0      0      0  13.0000        S  Second   \n",
      "887         1       1  female  19.0      0      0  30.0000        S   First   \n",
      "888         0       3  female   NaN      1      2  23.4500        S   Third   \n",
      "889         1       1    male  26.0      0      0  30.0000        C   First   \n",
      "890         0       3    male  32.0      0      0   7.7500        Q   Third   \n",
      "\n",
      "       who  adult_male deck  embark_town alive  alone  \n",
      "0      man        True  NaN  Southampton    no  False  \n",
      "1    woman       False    C    Cherbourg   yes  False  \n",
      "2    woman       False  NaN  Southampton   yes   True  \n",
      "3    woman       False    C  Southampton   yes  False  \n",
      "4      man        True  NaN  Southampton    no   True  \n",
      "..     ...         ...  ...          ...   ...    ...  \n",
      "886    man        True  NaN  Southampton    no   True  \n",
      "887  woman       False    B  Southampton   yes   True  \n",
      "888  woman       False  NaN  Southampton    no  False  \n",
      "889    man        True    C    Cherbourg   yes   True  \n",
      "890    man        True  NaN   Queenstown    no   True  \n",
      "\n",
      "[891 rows x 15 columns]\n"
     ]
    }
   ],
   "source": [
    "#Use new library seaborn to play with some datasets like titanic\n",
    "import seaborn as sns\n",
    "titanic_df = sns.load_dataset('titanic')\n",
    "print(titanic_df)"
   ]
  },
  {
   "cell_type": "markdown",
   "id": "05794346-df2b-4ca1-aca7-74dcfe3ec24a",
   "metadata": {},
   "source": [
    "**Output passanger /first class/**"
   ]
  },
  {
   "cell_type": "code",
   "execution_count": 104,
   "id": "e934ebce-1c19-484f-b88c-a552ea68db94",
   "metadata": {},
   "outputs": [
    {
     "name": "stdout",
     "output_type": "stream",
     "text": [
      "     survived  pclass     sex   age  sibsp  parch     fare embarked  class  \\\n",
      "1           1       1  female  38.0      1      0  71.2833        C  First   \n",
      "3           1       1  female  35.0      1      0  53.1000        S  First   \n",
      "6           0       1    male  54.0      0      0  51.8625        S  First   \n",
      "11          1       1  female  58.0      0      0  26.5500        S  First   \n",
      "23          1       1    male  28.0      0      0  35.5000        S  First   \n",
      "..        ...     ...     ...   ...    ...    ...      ...      ...    ...   \n",
      "871         1       1  female  47.0      1      1  52.5542        S  First   \n",
      "872         0       1    male  33.0      0      0   5.0000        S  First   \n",
      "879         1       1  female  56.0      0      1  83.1583        C  First   \n",
      "887         1       1  female  19.0      0      0  30.0000        S  First   \n",
      "889         1       1    male  26.0      0      0  30.0000        C  First   \n",
      "\n",
      "       who  adult_male deck  embark_town alive  alone  \n",
      "1    woman       False    C    Cherbourg   yes  False  \n",
      "3    woman       False    C  Southampton   yes  False  \n",
      "6      man        True    E  Southampton    no   True  \n",
      "11   woman       False    C  Southampton   yes   True  \n",
      "23     man        True    A  Southampton   yes   True  \n",
      "..     ...         ...  ...          ...   ...    ...  \n",
      "871  woman       False    D  Southampton   yes  False  \n",
      "872    man        True    B  Southampton    no   True  \n",
      "879  woman       False    C    Cherbourg   yes  False  \n",
      "887  woman       False    B  Southampton   yes   True  \n",
      "889    man        True    C    Cherbourg   yes   True  \n",
      "\n",
      "[216 rows x 15 columns]\n"
     ]
    }
   ],
   "source": [
    "first_class_passanger = titanic_df[titanic_df['class'] == 'First']\n",
    "print(first_class_passanger)"
   ]
  },
  {
   "cell_type": "markdown",
   "id": "bb771432-7ef8-4c43-9d57-3082dfc72654",
   "metadata": {},
   "source": [
    "**info**"
   ]
  },
  {
   "cell_type": "code",
   "execution_count": 108,
   "id": "0dbd759c-d6cd-47d1-be57-67ceb0c30293",
   "metadata": {},
   "outputs": [
    {
     "name": "stdout",
     "output_type": "stream",
     "text": [
      "<class 'pandas.core.frame.DataFrame'>\n",
      "RangeIndex: 891 entries, 0 to 890\n",
      "Data columns (total 15 columns):\n",
      " #   Column       Non-Null Count  Dtype   \n",
      "---  ------       --------------  -----   \n",
      " 0   survived     891 non-null    int64   \n",
      " 1   pclass       891 non-null    int64   \n",
      " 2   sex          891 non-null    object  \n",
      " 3   age          714 non-null    float64 \n",
      " 4   sibsp        891 non-null    int64   \n",
      " 5   parch        891 non-null    int64   \n",
      " 6   fare         891 non-null    float64 \n",
      " 7   embarked     889 non-null    object  \n",
      " 8   class        891 non-null    category\n",
      " 9   who          891 non-null    object  \n",
      " 10  adult_male   891 non-null    bool    \n",
      " 11  deck         203 non-null    category\n",
      " 12  embark_town  889 non-null    object  \n",
      " 13  alive        891 non-null    object  \n",
      " 14  alone        891 non-null    bool    \n",
      "dtypes: bool(2), category(2), float64(2), int64(4), object(5)\n",
      "memory usage: 80.7+ KB\n",
      "None\n"
     ]
    }
   ],
   "source": [
    "print(titanic_df.info())"
   ]
  },
  {
   "cell_type": "code",
   "execution_count": 110,
   "id": "a5785907-9c72-4856-844f-1262d9cef3c1",
   "metadata": {},
   "outputs": [
    {
     "name": "stdout",
     "output_type": "stream",
     "text": [
      "     survived  pclass     sex   age  sibsp  parch     fare embarked   class  \\\n",
      "0           0       3    male  22.0      1      0   7.2500        S   Third   \n",
      "1           1       1  female  38.0      1      0  71.2833        C   First   \n",
      "2           1       3  female  26.0      0      0   7.9250        S   Third   \n",
      "3           1       1  female  35.0      1      0  53.1000        S   First   \n",
      "4           0       3    male  35.0      0      0   8.0500        S   Third   \n",
      "..        ...     ...     ...   ...    ...    ...      ...      ...     ...   \n",
      "886         0       2    male  27.0      0      0  13.0000        S  Second   \n",
      "887         1       1  female  19.0      0      0  30.0000        S   First   \n",
      "888         0       3  female   NaN      1      2  23.4500        S   Third   \n",
      "889         1       1    male  26.0      0      0  30.0000        C   First   \n",
      "890         0       3    male  32.0      0      0   7.7500        Q   Third   \n",
      "\n",
      "       who  adult_male deck  embark_town alive  alone  \n",
      "0      man        True  NaN  Southampton    no  False  \n",
      "1    woman       False    C    Cherbourg   yes  False  \n",
      "2    woman       False  NaN  Southampton   yes   True  \n",
      "3    woman       False    C  Southampton   yes  False  \n",
      "4      man        True  NaN  Southampton    no   True  \n",
      "..     ...         ...  ...          ...   ...    ...  \n",
      "886    man        True  NaN  Southampton    no   True  \n",
      "887  woman       False    B  Southampton   yes   True  \n",
      "888  woman       False  NaN  Southampton    no  False  \n",
      "889    man        True    C    Cherbourg   yes   True  \n",
      "890    man        True  NaN   Queenstown    no   True  \n",
      "\n",
      "[891 rows x 15 columns]\n"
     ]
    }
   ],
   "source": [
    "print(titanic_df)"
   ]
  },
  {
   "cell_type": "code",
   "execution_count": 112,
   "id": "82d85c96-5516-42bb-8968-d37660f49457",
   "metadata": {},
   "outputs": [
    {
     "name": "stdout",
     "output_type": "stream",
     "text": [
      "Average age: 29.69911764705882\n"
     ]
    }
   ],
   "source": [
    "avg_titanic = titanic_df['age'].mean()\n",
    "print(f\"Average age: {avg_titanic}\")"
   ]
  },
  {
   "cell_type": "code",
   "execution_count": 114,
   "id": "0ae511f1-9dbc-4b3d-8b4a-f93df768dce5",
   "metadata": {},
   "outputs": [],
   "source": [
    "avg_survived = titanic_df['survived'].mean()"
   ]
  },
  {
   "cell_type": "code",
   "execution_count": 116,
   "id": "a8fbb2ae-b9ad-4bbd-a39c-84a35d694cf3",
   "metadata": {},
   "outputs": [
    {
     "name": "stdout",
     "output_type": "stream",
     "text": [
      "0.3838383838383838\n"
     ]
    }
   ],
   "source": [
    "print(avg_survived)"
   ]
  },
  {
   "cell_type": "code",
   "execution_count": null,
   "id": "99dcb5a5-3741-4b07-8c2f-fdc4cb6a41c9",
   "metadata": {},
   "outputs": [],
   "source": []
  }
 ],
 "metadata": {
  "kernelspec": {
   "display_name": "Python 3 (ipykernel)",
   "language": "python",
   "name": "python3"
  },
  "language_info": {
   "codemirror_mode": {
    "name": "ipython",
    "version": 3
   },
   "file_extension": ".py",
   "mimetype": "text/x-python",
   "name": "python",
   "nbconvert_exporter": "python",
   "pygments_lexer": "ipython3",
   "version": "3.12.4"
  }
 },
 "nbformat": 4,
 "nbformat_minor": 5
}
